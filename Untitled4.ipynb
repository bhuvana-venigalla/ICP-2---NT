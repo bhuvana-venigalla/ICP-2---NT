{
  "nbformat": 4,
  "nbformat_minor": 0,
  "metadata": {
    "colab": {
      "provenance": [],
      "authorship_tag": "ABX9TyPMwJp7iUt2TcAwGmHbu2eI",
      "include_colab_link": true
    },
    "kernelspec": {
      "name": "python3",
      "display_name": "Python 3"
    },
    "language_info": {
      "name": "python"
    }
  },
  "cells": [
    {
      "cell_type": "markdown",
      "metadata": {
        "id": "view-in-github",
        "colab_type": "text"
      },
      "source": [
        "<a href=\"https://colab.research.google.com/github/bhuvana-venigalla/ICP-2---NT/blob/main/Untitled4.ipynb\" target=\"_parent\"><img src=\"https://colab.research.google.com/assets/colab-badge.svg\" alt=\"Open In Colab\"/></a>"
      ]
    },
    {
      "cell_type": "code",
      "execution_count": null,
      "metadata": {
        "id": "MZn8bdISum3J"
      },
      "outputs": [],
      "source": []
    },
    {
      "cell_type": "markdown",
      "source": [
        "Write a program that takes two strings from the user: first_name, last_name. Pass these variables to fullname function that should return the (full name).\n",
        "o For example: ▪ First_name = “your first name”, last_name = “your last name” ▪ Full_name = “your full name”\n",
        "o Write function named “string_alternative” that returns every other char in the full_name string. Str = “Good evening” Output: Go vnn\n",
        "Note: You need to create a function named “string_alternative” for this program and call it from main function."
      ],
      "metadata": {
        "id": "gavH36bpvBmO"
      }
    },
    {
      "cell_type": "code",
      "source": [
        "def get_name(first_name:str,last_name:str):\n",
        "    return first_name+\" \"+ last_name\n",
        "\n",
        "first_name = input(\"Enter first name: \")\n",
        "last_name = input(\"Enter last name: \")\n",
        "\n",
        "full_name = get_name(first_name,last_name)\n",
        "\n",
        "print(\"Full_name =\",full_name)"
      ],
      "metadata": {
        "colab": {
          "base_uri": "https://localhost:8080/"
        },
        "id": "hnGMAYPAvJyf",
        "outputId": "0d88157c-77db-4ad3-c203-2704be2391d6"
      },
      "execution_count": 1,
      "outputs": [
        {
          "output_type": "stream",
          "name": "stdout",
          "text": [
            "Enter first name: Bhuvana\n",
            "Enter last name: Venigalla\n",
            "Full_name = Bhuvana Venigalla\n"
          ]
        }
      ]
    },
    {
      "cell_type": "code",
      "source": [
        "def string_alternative(string:str):\n",
        "    return string[::2]\n",
        "\n",
        "str_ = \"Good evening\"\n",
        "string_alternative(str_)"
      ],
      "metadata": {
        "colab": {
          "base_uri": "https://localhost:8080/",
          "height": 35
        },
        "id": "grzPfB9OvVv5",
        "outputId": "bfe74ffc-589d-4cd7-98bb-14d87acd9ed6"
      },
      "execution_count": 2,
      "outputs": [
        {
          "output_type": "execute_result",
          "data": {
            "text/plain": [
              "'Go vnn'"
            ],
            "application/vnd.google.colaboratory.intrinsic+json": {
              "type": "string"
            }
          },
          "metadata": {},
          "execution_count": 2
        }
      ]
    },
    {
      "cell_type": "markdown",
      "source": [
        "Write a python program to find the wordcount in a file (input.txt) for each line and then print the output.\n",
        "o Finally store the output in output.txt file. Example:\n",
        "Input: a file includes two lines: Python Course Deep Learning Course\n",
        "Output: -- Python Course -- Deep Learning Course\n",
        "Word_Count: -- Python: 1 -- Course: 2 -- Deep: 1 -- Learning: 1"
      ],
      "metadata": {
        "id": "b6GnGt1ivXnC"
      }
    },
    {
      "cell_type": "code",
      "source": [
        "def get_word_count(file_name):\n",
        "    output_file = \"output.txt\"\n",
        "    with open(output_file,'w+') as opt_file_obj:\n",
        "        word_freq  = {}\n",
        "        with open(file_name) as inp_file_obj:\n",
        "            for line in inp_file_obj.readlines():\n",
        "                opt_file_obj.write(line)\n",
        "                for word in line.split(\" \"):\n",
        "                    word = word.strip()\n",
        "                    word_freq[word] = word_freq.get(word,0)+1\n",
        "        opt_file_obj.write(\"\\nWord_Count:\\n\")\n",
        "        for key,value in word_freq.items():\n",
        "            opt_file_obj.write(f\"{key} : {value} \\n\")\n",
        "\n",
        "# run the function to get word frequency\n",
        "get_word_count(\"input.txt\")\n",
        "\n",
        "\n",
        "# To read the data of output.txt\n",
        "with open(\"output.txt\") as opt:\n",
        "    for line in opt.readlines():\n",
        "        print(line)"
      ],
      "metadata": {
        "colab": {
          "base_uri": "https://localhost:8080/"
        },
        "id": "0d-EhB1UvdqM",
        "outputId": "e30645e7-6bb0-460f-9e5d-4dd297f6b9c7"
      },
      "execution_count": 3,
      "outputs": [
        {
          "output_type": "stream",
          "name": "stdout",
          "text": [
            "Python Course\n",
            "\n",
            "Deep Learning Course\n",
            "\n",
            "\n",
            "\n",
            "Word_Count:\n",
            "\n",
            "Python : 1 \n",
            "\n",
            "Course : 2 \n",
            "\n",
            "Deep : 1 \n",
            "\n",
            "Learning : 1 \n",
            "\n"
          ]
        }
      ]
    },
    {
      "cell_type": "markdown",
      "source": [
        "Write a program, which reads heights (inches.) of customers into a list and convert these heights to centimeters in a separate list using:\n",
        "Nested Interactive loop.\n",
        "List comprehensions Example: L1: [150,155, 145, 148] Output: [68.03, 70.3, 65.77, 67.13]"
      ],
      "metadata": {
        "id": "4mbi2_9MvfyZ"
      }
    },
    {
      "cell_type": "code",
      "source": [
        "# method 1\n",
        "# using nested interactive loop\n",
        "def convert_heights_1(heights:list):\n",
        "    height_cm = []\n",
        "    for entry in heights:\n",
        "        height_cm.append(entry * 2.54)\n",
        "    return height_cm\n",
        "\n",
        "# method 2\n",
        "# using list comprehensions\n",
        "def convert_heights_2(heights:list):\n",
        "    height_cm = [entry * 2.54 for entry in heights]\n",
        "    return height_cm\n",
        "\n",
        "L1 = [150,155, 145, 148]\n",
        "print(\"Converted using interactive loop: \",convert_heights_1(L1))\n",
        "print(\"Converted using list comprehensions: \",convert_heights_2(L1))"
      ],
      "metadata": {
        "colab": {
          "base_uri": "https://localhost:8080/"
        },
        "id": "XeElgYErvoKK",
        "outputId": "a72cf84f-96a5-4c41-939e-27e766d774ef"
      },
      "execution_count": 4,
      "outputs": [
        {
          "output_type": "stream",
          "name": "stdout",
          "text": [
            "Converted using interactive loop:  [381.0, 393.7, 368.3, 375.92]\n",
            "Converted using list comprehensions:  [381.0, 393.7, 368.3, 375.92]\n"
          ]
        }
      ]
    }
  ]
}