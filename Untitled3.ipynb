{
  "nbformat": 4,
  "nbformat_minor": 0,
  "metadata": {
    "colab": {
      "provenance": [],
      "authorship_tag": "ABX9TyM3sDWdLMCgxTah5KSwSgFJ",
      "include_colab_link": true
    },
    "kernelspec": {
      "name": "python3",
      "display_name": "Python 3"
    },
    "language_info": {
      "name": "python"
    }
  },
  "cells": [
    {
      "cell_type": "markdown",
      "metadata": {
        "id": "view-in-github",
        "colab_type": "text"
      },
      "source": [
        "<a href=\"https://colab.research.google.com/github/bhuvana-venigalla/ICP-2---NT/blob/main/Untitled3.ipynb\" target=\"_parent\"><img src=\"https://colab.research.google.com/assets/colab-badge.svg\" alt=\"Open In Colab\"/></a>"
      ]
    },
    {
      "cell_type": "code",
      "execution_count": null,
      "metadata": {
        "id": "Q0QK6_byo6Xr"
      },
      "outputs": [],
      "source": []
    },
    {
      "cell_type": "markdown",
      "source": [
        "1. Write a program that takes two strings from the user: first_name, last_name. Pass these variables to fullname function that should return the (full name).\n",
        "o For example: ▪ First_name = “your first name”, last_name = “your last name” ▪ Full_name = “your full name”\n",
        "o Write function named “string_alternative” that returns every other char in the full_name string. Str = “Good evening” Output: Go vnn\n",
        "Note: You need to create a function named “string_alternative” for this program and call it from main function."
      ],
      "metadata": {
        "id": "iNrYTyGOo9wS"
      }
    },
    {
      "cell_type": "code",
      "source": [
        "def get_name(first_name:str,last_name:str):\n",
        "    return first_name+\" \"+ last_name\n",
        "\n",
        "first_name = input(\"Enter first name: \")\n",
        "last_name = input(\"Enter last name: \")\n",
        "\n",
        "full_name = get_name(first_name,last_name)\n",
        "\n",
        "print(\"Full_name =\",full_name)"
      ],
      "metadata": {
        "colab": {
          "base_uri": "https://localhost:8080/"
        },
        "id": "0n9ZFzqgo-nG",
        "outputId": "39574bbf-9819-4ac9-db7b-5a9f7367f083"
      },
      "execution_count": 2,
      "outputs": [
        {
          "output_type": "stream",
          "name": "stdout",
          "text": [
            "Enter first name: Bhuvana\n",
            "Enter last name: Venigalla\n",
            "Full_name = Bhuvana Venigalla\n"
          ]
        }
      ]
    },
    {
      "cell_type": "code",
      "source": [
        "def string_alternative(string:str):\n",
        "    return string[::2]\n",
        "\n",
        "str_ = \"Good evening\"\n",
        "string_alternative(str_)"
      ],
      "metadata": {
        "colab": {
          "base_uri": "https://localhost:8080/",
          "height": 35
        },
        "id": "9wXQ1OM-pj32",
        "outputId": "2f12851d-18d9-447f-8f6f-1a42d341fd0c"
      },
      "execution_count": 3,
      "outputs": [
        {
          "output_type": "execute_result",
          "data": {
            "text/plain": [
              "'Go vnn'"
            ],
            "application/vnd.google.colaboratory.intrinsic+json": {
              "type": "string"
            }
          },
          "metadata": {},
          "execution_count": 3
        }
      ]
    },
    {
      "cell_type": "markdown",
      "source": [
        ". Write a python program to find the wordcount in a file (input.txt) for each line and then print the output.\n",
        "o Finally store the output in output.txt file. Example:\n",
        "Input: a file includes two lines: Python Course Deep Learning Course\n",
        "Output: -- Python Course -- Deep Learning Course\n",
        "Word_Count: -- Python: 1 -- Course: 2 -- Deep: 1 -- Learning: 1"
      ],
      "metadata": {
        "id": "v8RH7R7CpxWE"
      }
    },
    {
      "cell_type": "code",
      "source": [
        "def get_word_count(file_name):\n",
        "    output_file = \"output.txt\"\n",
        "    with open(output_file,'w+') as opt_file_obj:\n",
        "        word_freq  = {}\n",
        "        with open(file_name) as inp_file_obj:\n",
        "            for line in inp_file_obj.readlines():\n",
        "                opt_file_obj.write(line)\n",
        "                for word in line.split(\" \"):\n",
        "                    word = word.strip()\n",
        "                    word_freq[word] = word_freq.get(word,0)+1\n",
        "        opt_file_obj.write(\"\\nWord_Count:\\n\")\n",
        "        for key,value in word_freq.items():\n",
        "            opt_file_obj.write(f\"{key} : {value} \\n\")\n",
        "\n",
        "# run the function to get word frequency\n",
        "get_word_count(\"input.txt\")\n",
        "\n",
        "\n",
        "# To read the data of output.txt\n",
        "with open(\"output.txt\") as opt:\n",
        "    for line in opt.readlines():\n",
        "        print(line)"
      ],
      "metadata": {
        "colab": {
          "base_uri": "https://localhost:8080/",
          "height": 341
        },
        "id": "_7kPwtK2py-P",
        "outputId": "1081abae-221e-49fe-8f1d-21c1bafbd03c"
      },
      "execution_count": 9,
      "outputs": [
        {
          "output_type": "error",
          "ename": "FileNotFoundError",
          "evalue": "[Errno 2] No such file or directory: 'input.txt'",
          "traceback": [
            "\u001b[0;31m---------------------------------------------------------------------------\u001b[0m",
            "\u001b[0;31mFileNotFoundError\u001b[0m                         Traceback (most recent call last)",
            "\u001b[0;32m<ipython-input-9-3a04b25e060d>\u001b[0m in \u001b[0;36m<cell line: 16>\u001b[0;34m()\u001b[0m\n\u001b[1;32m     14\u001b[0m \u001b[0;34m\u001b[0m\u001b[0m\n\u001b[1;32m     15\u001b[0m \u001b[0;31m# run the function to get word frequency\u001b[0m\u001b[0;34m\u001b[0m\u001b[0;34m\u001b[0m\u001b[0m\n\u001b[0;32m---> 16\u001b[0;31m \u001b[0mget_word_count\u001b[0m\u001b[0;34m(\u001b[0m\u001b[0;34m\"input.txt\"\u001b[0m\u001b[0;34m)\u001b[0m\u001b[0;34m\u001b[0m\u001b[0;34m\u001b[0m\u001b[0m\n\u001b[0m\u001b[1;32m     17\u001b[0m \u001b[0;34m\u001b[0m\u001b[0m\n\u001b[1;32m     18\u001b[0m \u001b[0;34m\u001b[0m\u001b[0m\n",
            "\u001b[0;32m<ipython-input-9-3a04b25e060d>\u001b[0m in \u001b[0;36mget_word_count\u001b[0;34m(file_name)\u001b[0m\n\u001b[1;32m      3\u001b[0m     \u001b[0;32mwith\u001b[0m \u001b[0mopen\u001b[0m\u001b[0;34m(\u001b[0m\u001b[0moutput_file\u001b[0m\u001b[0;34m,\u001b[0m\u001b[0;34m'w+'\u001b[0m\u001b[0;34m)\u001b[0m \u001b[0;32mas\u001b[0m \u001b[0mopt_file_obj\u001b[0m\u001b[0;34m:\u001b[0m\u001b[0;34m\u001b[0m\u001b[0;34m\u001b[0m\u001b[0m\n\u001b[1;32m      4\u001b[0m         \u001b[0mword_freq\u001b[0m  \u001b[0;34m=\u001b[0m \u001b[0;34m{\u001b[0m\u001b[0;34m}\u001b[0m\u001b[0;34m\u001b[0m\u001b[0;34m\u001b[0m\u001b[0m\n\u001b[0;32m----> 5\u001b[0;31m         \u001b[0;32mwith\u001b[0m \u001b[0mopen\u001b[0m\u001b[0;34m(\u001b[0m\u001b[0mfile_name\u001b[0m\u001b[0;34m)\u001b[0m \u001b[0;32mas\u001b[0m \u001b[0minp_file_obj\u001b[0m\u001b[0;34m:\u001b[0m\u001b[0;34m\u001b[0m\u001b[0;34m\u001b[0m\u001b[0m\n\u001b[0m\u001b[1;32m      6\u001b[0m             \u001b[0;32mfor\u001b[0m \u001b[0mline\u001b[0m \u001b[0;32min\u001b[0m \u001b[0minp_file_obj\u001b[0m\u001b[0;34m.\u001b[0m\u001b[0mreadlines\u001b[0m\u001b[0;34m(\u001b[0m\u001b[0;34m)\u001b[0m\u001b[0;34m:\u001b[0m\u001b[0;34m\u001b[0m\u001b[0;34m\u001b[0m\u001b[0m\n\u001b[1;32m      7\u001b[0m                 \u001b[0mopt_file_obj\u001b[0m\u001b[0;34m.\u001b[0m\u001b[0mwrite\u001b[0m\u001b[0;34m(\u001b[0m\u001b[0mline\u001b[0m\u001b[0;34m)\u001b[0m\u001b[0;34m\u001b[0m\u001b[0;34m\u001b[0m\u001b[0m\n",
            "\u001b[0;31mFileNotFoundError\u001b[0m: [Errno 2] No such file or directory: 'input.txt'"
          ]
        }
      ]
    },
    {
      "cell_type": "markdown",
      "source": [
        "3. Write a program, which reads heights (inches.) of customers into a list and convert these heights to centimeters in a separate list using:\n",
        "Nested Interactive loop.\n",
        "List comprehensions Example: L1: [150,155, 145, 148] Output: [68.03, 70.3, 65.77, 67.13]\n"
      ],
      "metadata": {
        "id": "V6byhc_Yqd3g"
      }
    },
    {
      "cell_type": "code",
      "source": [
        "# method 1\n",
        "# using nested interactive loop\n",
        "def convert_heights_1(heights:list):\n",
        "    height_cm = []\n",
        "    for entry in heights:\n",
        "        height_cm.append(entry * 2.54)\n",
        "    return height_cm\n",
        "\n",
        "# method 2\n",
        "# using list comprehensions\n",
        "def convert_heights_2(heights:list):\n",
        "    height_cm = [entry * 2.54 for entry in heights]\n",
        "    return height_cm\n",
        "\n",
        "L1 = [150,155, 145, 148]\n",
        "print(\"Converted using interactive loop: \",convert_heights_1(L1))\n",
        "print(\"Converted using list comprehensions: \",convert_heights_2(L1))"
      ],
      "metadata": {
        "colab": {
          "base_uri": "https://localhost:8080/"
        },
        "id": "Qnn97rsEqiKV",
        "outputId": "c45884ef-b6d7-44a5-d970-2d5207fc914e"
      },
      "execution_count": 6,
      "outputs": [
        {
          "output_type": "stream",
          "name": "stdout",
          "text": [
            "Converted using interactive loop:  [381.0, 393.7, 368.3, 375.92]\n",
            "Converted using list comprehensions:  [381.0, 393.7, 368.3, 375.92]\n"
          ]
        }
      ]
    }
  ]
}